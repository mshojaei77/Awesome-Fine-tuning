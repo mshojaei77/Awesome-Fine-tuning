{
  "nbformat": 4,
  "nbformat_minor": 0,
  "metadata": {
    "colab": {
      "provenance": [],
      "authorship_tag": "ABX9TyMEyRF/yf0B/1r/1faTK3pG",
      "include_colab_link": true
    },
    "kernelspec": {
      "name": "python3",
      "display_name": "Python 3"
    },
    "language_info": {
      "name": "python"
    }
  },
  "cells": [
    {
      "cell_type": "markdown",
      "metadata": {
        "id": "view-in-github",
        "colab_type": "text"
      },
      "source": [
        "<a href=\"https://colab.research.google.com/github/mshojaei77/Awesome-Fine-tuning/blob/main/gemma_2_9b_qlora.ipynb\" target=\"_parent\"><img src=\"https://colab.research.google.com/assets/colab-badge.svg\" alt=\"Open In Colab\"/></a>"
      ]
    },
    {
      "cell_type": "code",
      "execution_count": null,
      "metadata": {
        "id": "HhG5SjwarNmG"
      },
      "outputs": [],
      "source": [
        "!pip3 install -q -U bitsandbytes peft trl accelerate datasets transformers ipywidgets\n"
      ]
    },
    {
      "cell_type": "code",
      "source": [
        "import torch\n",
        "from transformers import AutoTokenizer, AutoModelForCausalLM, BitsAndBytesConfig\n",
        "\n",
        "bnb_config = BitsAndBytesConfig(\n",
        "    load_in_4bit= True,\n",
        "    bnb_4bit_use_double_quant=True,\n",
        "    bnb_4bit_quant_type=\"nf4\",\n",
        "    bnb_4bit_compute_dtype=torch.bfloat16\n",
        ")"
      ],
      "metadata": {
        "id": "2bgPUpmernsK"
      },
      "execution_count": null,
      "outputs": []
    },
    {
      "cell_type": "code",
      "source": [
        "from huggingface_hub import notebook_login\n",
        "notebook_login()"
      ],
      "metadata": {
        "id": "ESYi4RYPrUpX"
      },
      "execution_count": null,
      "outputs": []
    },
    {
      "cell_type": "code",
      "source": [
        "model_id = \"google/gemma-2-9b\"\n",
        "\n",
        "model = AutoModelForCausalLM.from_pretrained(model_id, quantization_config=bnb_config, device_map={\"\":0})\n",
        "tokenizer = AutoTokenizer.from_pretrained(model_id, add_eos_token=True)"
      ],
      "metadata": {
        "id": "q67uOv8yuUkV"
      },
      "execution_count": null,
      "outputs": []
    },
    {
      "cell_type": "code",
      "source": [
        "from datasets import load_dataset\n",
        "import pandas as pf\n",
        "\n",
        "dataset = load_dataset(\"mshojaei77/merged_persian_alpaca\", split = \"train\")\n",
        "\n",
        "df = dataset.to_pandas()\n",
        "df.head(10)"
      ],
      "metadata": {
        "id": "pKmt3x8guZu3"
      },
      "execution_count": null,
      "outputs": []
    },
    {
      "cell_type": "markdown",
      "source": [
        "# Dataset Formatting\n",
        "Now, let’s format the dataset according to the specified Gemma instruction format."
      ],
      "metadata": {
        "id": "VpJw_9UKvF03"
      }
    },
    {
      "cell_type": "code",
      "source": [
        "def generate_prompt(data_point):\n",
        "    \"\"\"Gen. input text based on a prompt, task instruction, (context info.), and answer\n",
        "\n",
        "    :param data_point: dict: Data point\n",
        "    :return: dict: tokenzed prompt\n",
        "    \"\"\"\n",
        "    prefix_text = 'Below is an instruction that describes a task. Write a response that ' \\\n",
        "               'appropriately completes the request.\\n\\n'\n",
        "\n",
        "    text = f\"\"\"<start_of_turn>user {prefix_text} {data_point[\"instruction\"]} <end_of_turn>\\n<start_of_turn>model {data_point[\"output\"]} <end_of_turn>\"\"\"\n",
        "    return text"
      ],
      "metadata": {
        "id": "gl8PT1iWu81P"
      },
      "execution_count": null,
      "outputs": []
    },
    {
      "cell_type": "code",
      "source": [
        "text_column = [generate_prompt(data_point) for data_point in dataset]\n",
        "dataset = dataset.add_column(\"prompt\", text_column)"
      ],
      "metadata": {
        "id": "AVpUx7uQvWjC"
      },
      "execution_count": null,
      "outputs": []
    },
    {
      "cell_type": "code",
      "source": [
        "dataset = dataset.shuffle(seed=1234)  # Shuffle dataset here\n",
        "dataset = dataset.map(lambda samples: tokenizer(samples[\"prompt\"]), batched=True)"
      ],
      "metadata": {
        "id": "YypILEvmvg2Y"
      },
      "execution_count": null,
      "outputs": []
    },
    {
      "cell_type": "code",
      "source": [
        "dataset = dataset.train_test_split(test_size=0.2)\n",
        "train_data = dataset[\"train\"]\n",
        "test_data = dataset[\"test\"]\n",
        "dataset"
      ],
      "metadata": {
        "id": "UUVcZOnRvj6s"
      },
      "execution_count": null,
      "outputs": []
    },
    {
      "cell_type": "markdown",
      "source": [
        "Here, we are enabling gradient checkpointing and preparing the model for low-bit (k-bit) training, which helps reduce memory usage and improve efficiency during training. This setup uses PEFT (Parameter-Efficient Fine-Tuning) techniques to optimize the model for resource-constrained environments.\n"
      ],
      "metadata": {
        "id": "Oda9TGLGv3Yv"
      }
    },
    {
      "cell_type": "code",
      "source": [
        "from peft import LoraConfig, peft_model, prepare_model_for_kbit_training, get_peft_model\n",
        "model.gradient_checkpointing_enable()\n",
        "model = prepare_model_for_kbit_training(model)"
      ],
      "metadata": {
        "id": "ZzBtatG2vqmF"
      },
      "execution_count": null,
      "outputs": []
    },
    {
      "cell_type": "code",
      "source": [
        "from peft import LoraConfig, get_peft_model, PeftModel\n",
        "\n",
        "modules = ['up_proj', 'q_proj', 'down_proj', 'gate_proj', 'o_proj', 'k_proj', 'v_proj']\n",
        "\n",
        "lora_config = LoraConfig(\n",
        "    r=16,\n",
        "    lora_alpha=32,\n",
        "    target_modules=modules,\n",
        "    lora_dropout=0.06,\n",
        "    bias=\"none\",\n",
        "    task_type=\"CAUSAL_LM\"\n",
        ")\n",
        "\n",
        "model = get_peft_model(model, lora_config)"
      ],
      "metadata": {
        "id": "JDdZ_qlDwBYT"
      },
      "execution_count": null,
      "outputs": []
    },
    {
      "cell_type": "code",
      "source": [
        "trainable, total = model.get_nb_trainable_parameters()\n",
        "print(f\"trainable: {trainable} | total {total} | Percentage: {trainable/total*100:.4f}%\")"
      ],
      "metadata": {
        "id": "QAezK1n3wRCK"
      },
      "execution_count": null,
      "outputs": []
    },
    {
      "cell_type": "markdown",
      "source": [
        "# Fine-Tuning with qLora Using SFTTrainer from trl Library\n",
        "We configure and instantiate an SFTTrainer for fine-tuning a model using our training and evaluation datasets. This setup includes training arguments like batch size, gradient accumulation, learning rate, and optimization strategy, along with a data collator for language modeling, leveraging the previously defined LoRA configuration for parameter-efficient fine-tuning."
      ],
      "metadata": {
        "id": "-s-fCTuowYdC"
      }
    },
    {
      "cell_type": "code",
      "source": [
        "import transformers\n",
        "\n",
        "from trl import SFTTrainer\n",
        "\n",
        "tokenizer.pad_token = tokenizer.eos_token\n",
        "torch.cuda.empty_cache()\n",
        "trainer = SFTTrainer(\n",
        "    model=model,\n",
        "    train_dataset=train_data,\n",
        "    eval_dataset=test_data,\n",
        "    dataset_text_field=\"prompt\",\n",
        "    peft_config=lora_config,\n",
        "    args=transformers.TrainingArguments(\n",
        "        per_device_train_batch_size=1,\n",
        "        gradient_accumulation_steps=4,\n",
        "        # warmup_steps=0.03,\n",
        "        max_steps=130,\n",
        "        learning_rate=2e-4,\n",
        "        logging_steps=1,\n",
        "        output_dir=\"outputs\",\n",
        "        optim=\"paged_adamw_8bit\",\n",
        "        save_strategy=\"epoch\",\n",
        "    ),\n",
        "    data_collator=transformers.DataCollatorForLanguageModeling(tokenizer, mlm=False),\n",
        ")"
      ],
      "metadata": {
        "id": "o1JMlq2UwV6t"
      },
      "execution_count": null,
      "outputs": []
    },
    {
      "cell_type": "code",
      "source": [
        "model.config.use_cache = False\n",
        "trainer.train()"
      ],
      "metadata": {
        "id": "zdsfOcdBwisS"
      },
      "execution_count": null,
      "outputs": []
    },
    {
      "cell_type": "code",
      "source": [
        " #Name of the model\n",
        "new_model = \"gemma2-9b-finetuned\"\n",
        "\n",
        "# Save the fine-tuned model\n",
        "trainer.model.save_pretrained(new_model)"
      ],
      "metadata": {
        "id": "kw_H9iZIwlRy"
      },
      "execution_count": null,
      "outputs": []
    },
    {
      "cell_type": "markdown",
      "source": [
        "# Merging Fine-Tuned Model\n",
        "We can load the base model and merge it with fine-tuned LoRA weights to create a combined model, optimizing for lower CPU memory usage and using 16-bit floating point precision. The merged model and tokenizer are then saved to a specified directory, with the tokenizer’s padding token set to the end-of-sequence token and padding side adjusted to the right."
      ],
      "metadata": {
        "id": "CGYvfQngwsuQ"
      }
    },
    {
      "cell_type": "code",
      "source": [
        "# Merge the model with LoRA weights\n",
        "base_model = AutoModelForCausalLM.from_pretrained(\n",
        "    model_id,\n",
        "    low_cpu_mem_usage=True,\n",
        "    return_dict=True,\n",
        "    torch_dtype=torch.float16,\n",
        "    device_map={\"\": 0},\n",
        ")\n",
        "merged_model= PeftModel.from_pretrained(base_model, new_model)\n",
        "merged_model= merged_model.merge_and_unload()\n",
        "\n",
        "# Save the merged model\n",
        "merged_model.save_pretrained(\"merged_model\",safe_serialization=True)\n",
        "tokenizer.save_pretrained(\"merged_model\")\n",
        "tokenizer.pad_token = tokenizer.eos_token\n",
        "tokenizer.padding_side = \"right\""
      ],
      "metadata": {
        "id": "aY8PohS7wpyU"
      },
      "execution_count": null,
      "outputs": []
    },
    {
      "cell_type": "markdown",
      "source": [
        "Now, let's give this model a try!\n"
      ],
      "metadata": {
        "id": "qgYEWiRNxAao"
      }
    },
    {
      "cell_type": "code",
      "source": [
        "def get_completion(query: str, model, tokenizer) -> str:\n",
        "    device = \"cuda:0\"\n",
        "\n",
        "    prompt_template = \"\"\"\n",
        "    <start_of_turn>user\n",
        "    Below is an instruction that describes a task. Write a response that appropriatly completes the request\n",
        "    {query}\n",
        "    <end_of_turn>\\n<start_of_turn>model\n",
        "\n",
        "    \"\"\"\n",
        "\n",
        "    prompt = prompt_template.format(query=query)\n",
        "\n",
        "    encodeds = tokenizer(prompt, return_tensors=\"pt\", add_special_tokens=True)\n",
        "\n",
        "    model_inputs = encodeds.to(dsevice)\n",
        "\n",
        "    generated_ids = model.generate(**model_inputs, max_new_tokens=1000, do_sample=True, pad_token_id=tokenizer.eos_token_id)\n",
        "    # decoded = tokenizer.batch_decod(generate_ids)\n",
        "    decoded = tokenizer.decode(generated_ids[0], skip_special_tokens=True)\n",
        "\n",
        "    return decoded"
      ],
      "metadata": {
        "id": "EUzj4j9Mw-df"
      },
      "execution_count": null,
      "outputs": []
    },
    {
      "cell_type": "code",
      "source": [
        "result = get_completion(query=\"Create a function to calculate the sum of a sequence of integers.\", model=merged_model, tokenizer=tokenizer)\n",
        "print(result)"
      ],
      "metadata": {
        "id": "Ee6xLnfvxD5L"
      },
      "execution_count": null,
      "outputs": []
    },
    {
      "cell_type": "code",
      "source": [
        "merged_model.push_to_hub(\"mshojaei77/persian_gemma-2-9b-4bit\")\n",
        "tokenizer.push_to_hub(\"mshojaei77/persian_gemma-2-9b-4bit\")\n",
        "merged_model.push_to_hub_merged(\"mshojaei77/persian_gemma-2-9b-4bit\", tokenizer, save_method = \"merged_16bit\")"
      ],
      "metadata": {
        "id": "Q8eu_Om4xbOm"
      },
      "execution_count": null,
      "outputs": []
    }
  ]
}